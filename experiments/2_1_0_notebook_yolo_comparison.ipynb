{
 "cells": [
  {
   "cell_type": "code",
   "execution_count": null,
   "metadata": {},
   "outputs": [],
   "source": [
    "weight_order = [\"yolov8n\", \"yolov8m\", \"yolov8x\"]\n",
    "# Set style and context to make the plot look more aesthetically pleasing\n",
    "sns.set_style(\"whitegrid\")\n",
    "sns.set_context(\"paper\")\n",
    "# Define a color palette\n",
    "palette = sns.color_palette(\"Blues_d\", n_colors=len(weight_order))\n",
    "\n",
    "# Create a bar plot for accuracy grouped by cv_model_weight\n",
    "plt.figure(figsize=(6, 5))\n",
    "barplot = sns.barplot(x='cv_model_weight', y='accuracy', data=df, ci=None, order=weight_order, palette=palette)\n",
    "\n",
    "# Adjust space between bars\n",
    "barplot.bar_width = 0.1\n",
    "\n",
    "# Adding annotations\n",
    "# for p in barplot.patches:\n",
    "#     barplot.annotate(format(p.get_height(), '.2f'),\n",
    "#                      (p.get_x() + p.get_width() / 2., p.get_height()),\n",
    "#                      ha = 'center', va = 'center',\n",
    "#                      xytext = (0, 20),\n",
    "#                      textcoords = 'offset points')\n",
    "# Create a line plot on top of the bar plot\n",
    "mean_accuracies = df.groupby('cv_model_weight')['accuracy'].mean().reindex(weight_order)\n",
    "# Create a line plot on top of the bar plot for mean accuracies\n",
    "sns.lineplot(x=weight_order, y=mean_accuracies, marker=\"o\", markersize=8, color=palette[-1], sort=False)\n",
    "\n",
    "plt.title('Accuracy Grouped by CV Model Weight with Error Bars')\n",
    "plt.ylabel('Mean Accuracy')\n",
    "plt.xlabel('CV Model Weight')\n",
    "\n",
    "# Show plot\n",
    "plt.tight_layout()\n",
    "plt.show()"
   ]
  }
 ],
 "metadata": {
  "language_info": {
   "name": "python"
  }
 },
 "nbformat": 4,
 "nbformat_minor": 2
}
