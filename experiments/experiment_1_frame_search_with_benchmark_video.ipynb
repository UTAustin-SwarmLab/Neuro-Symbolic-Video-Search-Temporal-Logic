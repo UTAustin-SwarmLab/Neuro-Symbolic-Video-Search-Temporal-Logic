{
 "cells": [
  {
   "cell_type": "code",
   "execution_count": 5,
   "metadata": {},
   "outputs": [],
   "source": [
    "import csv\n",
    "from pathlib import Path\n",
    "\n",
    "from ns_vfs.common.utility import save_frames\n",
    "from ns_vfs.config.loader import load_config\n",
    "from ns_vfs.data.frame import BenchmarkLTLFrame, FramesofInterest\n",
    "from ns_vfs.frame_searcher import FrameSearcher\n",
    "from ns_vfs.model.vision.grounding_dino import GroundingDino\n",
    "from ns_vfs.processor.benchmark_video_processor import BenchmarkVideoFrameProcessor\n",
    "from ns_vfs.video_to_automaton import VideotoAutomaton\n",
    "from common import get_available_benchmark_video\n",
    "from ns_vfs.model.vision.yolo import Yolo"
   ]
  },
  {
   "cell_type": "markdown",
   "metadata": {},
   "source": [
    "**Global Variable**"
   ]
  },
  {
   "cell_type": "code",
   "execution_count": 3,
   "metadata": {},
   "outputs": [],
   "source": [
    "config = load_config()\n",
    "benchmark_frame_video_root_dir = Path(\n",
    "    \"/opt/Neuro-Symbolic-Video-Frame-Search/artifacts/benchmark_frame_video/\"\n",
    ")\n",
    "benchmark_image_set_dir = [x for x in benchmark_frame_video_root_dir.iterdir() if x.is_dir()]\n",
    "cv_model_list = [\"grounding_dino\", \"yolo\"]"
   ]
  },
  {
   "cell_type": "markdown",
   "metadata": {},
   "source": [
    "**Local Variable for the experiment**"
   ]
  },
  {
   "cell_type": "code",
   "execution_count": null,
   "metadata": {},
   "outputs": [],
   "source": [
    "\"\"\"\n",
    "It will go over all available benchmark video and search for frame of interest for each cv detection model.\n",
    "\"\"\"\n",
    "for benchmark_name_dir in benchmark_image_set_dir:\n",
    "    ltl_video_dir_set = [x for x in benchmark_name_dir.iterdir() if x.is_dir()]\n",
    "    if len(ltl_video_dir_set) > 0:\n",
    "        print(f\"--processing {benchmark_name_dir.name}--\")\n",
    "        print(f\"number of ltl rule: {len(ltl_video_dir_set)}\")\n",
    "        for ltl_video_dir in ltl_video_dir_set:\n",
    "            benchmark_video_file_list = get_available_benchmark_video(ltl_video_dir)\n",
    "            print(f\"number of examples of {ltl_video_dir.name}: {len(benchmark_video_file_list)}\")\n",
    "\n",
    "            for benchmark_video_file in benchmark_video_file_list:\n",
    "                for cv_model in cv_model_list:\n",
    "                    if cv_model == \"yolo\":\n",
    "                        cv_detection_model = Yolo(config=config.YOLO,\n",
    "                                                  weight_path=config.YOLO.YOLO_CHECKPOINT_PATH)\n",
    "                    elif cv_model == \"grounding_dino\":\n",
    "                        cv_detection_model = GroundingDino(\n",
    "                                config=config.GROUNDING_DINO,\n",
    "                                weight_path=config.GROUNDING_DINO.GROUNDING_DINO_CHECKPOINT_PATH,\n",
    "                                config_path=config.GROUNDING_DINO.GROUNDING_DINO_CONFIG_PATH,\n",
    "                            )\n",
    "                    benchmark_video_processor = BenchmarkVideoFrameProcessor(\n",
    "                        video_path=benchmark_video_file,\n",
    "                        artifact_dir=config.VERSION_AND_PATH.ARTIFACTS_PATH,\n",
    "                        manual_confidence_probability=1.0,\n",
    "                    )\n",
    "\n",
    "                    benchmark_img_frame: BenchmarkLTLFrame = benchmark_video_processor.benchmark_image_frames\n",
    "\n",
    "                    video_automata_builder = VideotoAutomaton(\n",
    "                        detector=cv_detection_model,\n",
    "                        video_processor=benchmark_video_processor,\n",
    "                        artifact_dir=config.VERSION_AND_PATH.ARTIFACTS_PATH,\n",
    "                        proposition_set=benchmark_img_frame.proposition,\n",
    "                        save_annotation=False,  # TODO: Debug only\n",
    "                        save_image=False,  # TODO: Debug only\n",
    "                        ltl_formula=f\"P>=0.80 [{benchmark_img_frame.ltl_formula}]\",\n",
    "                        verbose=False,\n",
    "                    )\n",
    "                    frame_sercher = FrameSearcher(\n",
    "                        video_automata_builder=video_automata_builder,\n",
    "                        video_processor=benchmark_video_processor,\n",
    "                    )\n",
    "\n",
    "                    frame_of_interest = frame_sercher.search()"
   ]
  }
 ],
 "metadata": {
  "kernelspec": {
   "display_name": "Python 3",
   "language": "python",
   "name": "python3"
  },
  "language_info": {
   "codemirror_mode": {
    "name": "ipython",
    "version": 3
   },
   "file_extension": ".py",
   "mimetype": "text/x-python",
   "name": "python",
   "nbconvert_exporter": "python",
   "pygments_lexer": "ipython3",
   "version": "3.8.10"
  },
  "orig_nbformat": 4
 },
 "nbformat": 4,
 "nbformat_minor": 2
}
