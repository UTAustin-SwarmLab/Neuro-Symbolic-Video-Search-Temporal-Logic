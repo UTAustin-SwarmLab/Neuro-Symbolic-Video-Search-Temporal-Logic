{
 "cells": [
  {
   "cell_type": "code",
   "execution_count": 23,
   "metadata": {},
   "outputs": [],
   "source": [
    "from ns_vfs.common.utility import load_pickle_to_dict"
   ]
  },
  {
   "cell_type": "code",
   "execution_count": 24,
   "metadata": {},
   "outputs": [],
   "source": [
    "data_path = \"/opt/Neuro-Symbolic-Video-Frame-Search/artifacts/\""
   ]
  },
  {
   "cell_type": "code",
   "execution_count": 27,
   "metadata": {},
   "outputs": [],
   "source": [
    "result = load_pickle_to_dict(data_path,\"test_result.pkl\")"
   ]
  },
  {
   "cell_type": "code",
   "execution_count": 28,
   "metadata": {},
   "outputs": [
    {
     "data": {
      "text/plain": [
       "dict_keys(['F \"horse\"_25_2', 'F \"bird\"_25_0', 'F \"truck\"_50_0', 'F \"dog\"_100_0', 'F \"airplane\"_50_2'])"
      ]
     },
     "execution_count": 28,
     "metadata": {},
     "output_type": "execute_result"
    }
   ],
   "source": [
    "result.keys()"
   ]
  },
  {
   "cell_type": "code",
   "execution_count": 16,
   "metadata": {},
   "outputs": [
    {
     "data": {
      "text/plain": [
       "dict_keys(['benchmark_video', 'grounding_dino', 'yolo', 'grounding_dino_classification_metrics', 'yolo_classification_metrics'])"
      ]
     },
     "execution_count": 16,
     "metadata": {},
     "output_type": "execute_result"
    }
   ],
   "source": [
    "data['F \"horse\"_25_2'][0].keys()"
   ]
  },
  {
   "cell_type": "code",
   "execution_count": 29,
   "metadata": {},
   "outputs": [],
   "source": [
    "# {\"cifar100\": {...}}\n"
   ]
  },
  {
   "cell_type": "code",
   "execution_count": 30,
   "metadata": {},
   "outputs": [
    {
     "name": "stdout",
     "output_type": "stream",
     "text": [
      "50\n",
      "[[0], [2], [12], [24], [31], [35, 36, 37], [40]]\n"
     ]
    }
   ],
   "source": [
    "result['F \"horse\"_25_2'][\"benchmark_video\"]\n",
    "print(result['F \"horse\"_25_2'][\"benchmark_video\"].number_of_frame)\n",
    "print(result['F \"horse\"_25_2'][\"benchmark_video\"].frames_of_interest)\n",
    "#print(result['F \"horse\"_25_2'][\"benchmark_video\"].labels_of_frames)\n",
    "#print(result['F \"horse\"_25_2'][\"benchmark_video\"].images_of_frames)"
   ]
  },
  {
   "cell_type": "code",
   "execution_count": 31,
   "metadata": {},
   "outputs": [
    {
     "name": "stdout",
     "output_type": "stream",
     "text": [
      "[[0], [3], [5], [7], [8], [12], [14], [17], [18], [20], [21], [23], [24], [25], [26], [27], [31], [32], [34], [36], [38], [39], [41], [42], [48]]\n"
     ]
    }
   ],
   "source": [
    "result['F \"horse\"_25_2'][\"grounding_dino\"]\n",
    "print(result['F \"horse\"_25_2'][\"grounding_dino\"].foi_list)\n",
    "# print(result['F \"horse\"_25_2'][\"grounding_dino\"].frame_images)"
   ]
  },
  {
   "cell_type": "code",
   "execution_count": 32,
   "metadata": {},
   "outputs": [
    {
     "name": "stdout",
     "output_type": "stream",
     "text": [
      "[]\n"
     ]
    }
   ],
   "source": [
    "result['F \"horse\"_25_2'][\"yolo\"]\n",
    "print(result['F \"horse\"_25_2'][\"yolo\"].foi_list)\n",
    "# print(result['F \"horse\"_25_2'][\"grounding_dino\"].frame_images)"
   ]
  },
  {
   "cell_type": "code",
   "execution_count": 33,
   "metadata": {},
   "outputs": [
    {
     "data": {
      "text/plain": [
       "{'precision': 0.2, 'recall': 0.5555555555555556, 'f1': 0.29411764705882354}"
      ]
     },
     "execution_count": 33,
     "metadata": {},
     "output_type": "execute_result"
    }
   ],
   "source": [
    "result['F \"horse\"_25_2'][\"grounding_dino_classification_metrics\"]"
   ]
  },
  {
   "cell_type": "code",
   "execution_count": 34,
   "metadata": {},
   "outputs": [
    {
     "data": {
      "text/plain": [
       "{'precision': 0, 'recall': 0.0, 'f1': 0}"
      ]
     },
     "execution_count": 34,
     "metadata": {},
     "output_type": "execute_result"
    }
   ],
   "source": [
    "result['F \"horse\"_25_2'][\"yolo_classification_metrics\"]"
   ]
  },
  {
   "cell_type": "code",
   "execution_count": null,
   "metadata": {},
   "outputs": [],
   "source": []
  }
 ],
 "metadata": {
  "kernelspec": {
   "display_name": "Python 3",
   "language": "python",
   "name": "python3"
  },
  "language_info": {
   "codemirror_mode": {
    "name": "ipython",
    "version": 3
   },
   "file_extension": ".py",
   "mimetype": "text/x-python",
   "name": "python",
   "nbconvert_exporter": "python",
   "pygments_lexer": "ipython3",
   "version": "3.8.10"
  },
  "orig_nbformat": 4
 },
 "nbformat": 4,
 "nbformat_minor": 2
}
