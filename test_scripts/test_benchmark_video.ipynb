{
 "cells": [
  {
   "cell_type": "code",
   "execution_count": 21,
   "metadata": {},
   "outputs": [],
   "source": [
    "import pickle\n",
    "from ns_vfs.data.frame import BenchmarkLTLFrame"
   ]
  },
  {
   "cell_type": "code",
   "execution_count": 22,
   "metadata": {},
   "outputs": [],
   "source": [
    "file_name = 'data/benchmark_CIFAR10_ltl_\"deer\" U \"horse\"_100_2.pkl'"
   ]
  },
  {
   "cell_type": "code",
   "execution_count": 23,
   "metadata": {},
   "outputs": [
    {
     "name": "stdout",
     "output_type": "stream",
     "text": [
      "True\n",
      "\"deer\" U \"horse\"\n",
      "['deer', 'horse']\n",
      "100\n",
      "[[6, 8], [17, 18], [23, 24], [30, 37], [44, 46], [50, 56], [60, 64], [71, 73], [87, 88], [98, 99]]\n",
      "['bird', 'dog', 'airplane', 'ship', 'automobile', 'bird', 'deer', 'airplane', 'horse', 'airplane', 'bird', 'cat', 'ship', 'airplane', 'cat', 'ship', 'truck', 'deer', 'horse', 'automobile', 'dog', 'bird', 'frog', 'deer', 'horse', 'automobile', 'automobile', 'frog', 'ship', 'truck', 'deer', 'frog', 'ship', 'dog', 'automobile', 'airplane', 'truck', 'horse', 'ship', 'truck', 'frog', 'frog', 'airplane', 'dog', 'deer', 'truck', 'horse', 'bird', 'truck', 'bird', 'deer', 'ship', 'automobile', 'frog', 'truck', 'frog', 'horse', 'cat', 'cat', 'truck', 'deer', 'automobile', 'dog', 'automobile', 'horse', 'truck', 'cat', 'automobile', 'bird', 'dog', 'cat', 'deer', 'cat', 'horse', 'bird', 'ship', 'bird', 'automobile', 'ship', 'cat', 'ship', 'ship', 'dog', 'frog', 'airplane', 'truck', 'cat', 'deer', 'horse', 'automobile', 'bird', 'truck', 'airplane', 'truck', 'frog', 'ship', 'cat', 'dog', 'deer', 'horse']\n"
     ]
    }
   ],
   "source": [
    "# Open the file in binary read mode\n",
    "with open(file_name, 'rb') as file:\n",
    "    # Load the data from the file\n",
    "    data : BenchmarkLTLFrame = pickle.load(file)\n",
    "\n",
    "# Print the data\n",
    "print(data.ground_truth)\n",
    "print(data.ltl_formula)\n",
    "print(data.proposition)\n",
    "print(data.number_of_frame)\n",
    "print(data.frames_of_interest)\n",
    "print(data.labels_of_frames)\n"
   ]
  },
  {
   "cell_type": "code",
   "execution_count": null,
   "metadata": {},
   "outputs": [],
   "source": []
  }
 ],
 "metadata": {
  "kernelspec": {
   "display_name": "Python 3",
   "language": "python",
   "name": "python3"
  },
  "language_info": {
   "codemirror_mode": {
    "name": "ipython",
    "version": 3
   },
   "file_extension": ".py",
   "mimetype": "text/x-python",
   "name": "python",
   "nbconvert_exporter": "python",
   "pygments_lexer": "ipython3",
   "version": "3.8.10"
  },
  "orig_nbformat": 4
 },
 "nbformat": 4,
 "nbformat_minor": 2
}
